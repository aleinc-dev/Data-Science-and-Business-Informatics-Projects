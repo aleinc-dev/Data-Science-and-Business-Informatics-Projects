{
 "cells": [
  {
   "cell_type": "markdown",
   "metadata": {},
   "source": [
    "# Lecture 1\n",
    "\n",
    "---\n",
    "### Exercise: Selection Sort\n",
    "Write the function ```SelectionSort(coll)``` that returns a sorted list with the elements in *coll*. \n",
    "You have to implements Selection Sort algorithm."
   ]
  },
  {
   "cell_type": "code",
   "execution_count": 82,
   "metadata": {},
   "outputs": [],
   "source": [
    "## Your implementation here!!!\n",
    "\n",
    "def SelectionSort(coll):\n",
    "    for i in range(len(coll)):\n",
    "        min_pos = i\n",
    "        for j in range(i+1, len(coll)):\n",
    "            if coll[j] < coll[min_pos]:\n",
    "                min_pos = j\n",
    "        coll[i], coll[min_pos] = coll[min_pos], coll[i] \n",
    "    return coll"
   ]
  },
  {
   "cell_type": "markdown",
   "metadata": {},
   "source": [
    "----\n",
    "### Exercise: Insertion Sort\n",
    "Write the function ```InsertionSort(coll)``` that returns a sorted list with the elements in *coll*. \n",
    "You have to implements Insertion Sort algorithm."
   ]
  },
  {
   "cell_type": "code",
   "execution_count": null,
   "metadata": {},
   "outputs": [],
   "source": [
    "def InsertioSort(coll):\n",
    "\n",
    "    for j in range(1, len(coll)):\n",
    "        key = coll[j]\n",
    "        i = j - 1\n",
    "        while i > -1 and coll[i] > key:\n",
    "            coll[i+1] = coll[i]\n",
    "            i = i-1\n",
    "\n",
    "        coll[i + 1] = key\n",
    "\n",
    "    return coll"
   ]
  },
  {
   "cell_type": "markdown",
   "metadata": {},
   "source": [
    "----\n",
    "### Exercise: Strange orderings\n",
    "Given a list, write and test comparators to obtain the following orderings:\n",
    "- Even number precede odd ones. Even numbers are sorted in non-decreasing  order while odd ones are sorted in non-increasing order.\n",
    "- Strings are sorted in non-increasing order based on their lengths. Strings having the same length are sorted in non-increasing lexicographic order. "
   ]
  },
  {
   "cell_type": "code",
   "execution_count": 7,
   "metadata": {},
   "outputs": [],
   "source": [
    "import functools\n",
    "\n",
    "my_list = list(range(10))\n",
    "my_list2 = [\"a\", \"b\", \"aba\", \"cad\", \"zzzz\", \"aaaa\"]"
   ]
  },
  {
   "cell_type": "code",
   "execution_count": 8,
   "metadata": {},
   "outputs": [
    {
     "name": "stdout",
     "output_type": "stream",
     "text": [
      "RESULT my_cmp_num:  [0, 2, 4, 6, 8, 9, 7, 5, 3, 1]\n"
     ]
    }
   ],
   "source": [
    "def my_cmp_num(a, b):\n",
    "    if a == b:\n",
    "        return 0\n",
    "    elif a%2==0 and b%2!=0:   # a pari, b dispari: a precede b\n",
    "        return -1\n",
    "    elif a%2 !=0 and b%2==0:  # a dispari, b pari: b precede a\n",
    "        return 1\n",
    "    elif (a%2==0 and b%2==0): # entrambi pari: ordine non decrescente\n",
    "        return(a-b)\n",
    "    elif (a%2!=0 and b%2!=0): # entrambi dispari: ordine non-crescente\n",
    "        return (b-a)\n",
    "\n",
    "print(\"RESULT my_cmp_num: \", sorted(list(range(10)), key=functools.cmp_to_key(my_cmp_num)))"
   ]
  },
  {
   "cell_type": "code",
   "execution_count": 9,
   "metadata": {},
   "outputs": [
    {
     "name": "stdout",
     "output_type": "stream",
     "text": [
      "RESULT my_cmp_str:  ['zzzz', 'aaaa', 'cad', 'aba', 'b', 'a']\n"
     ]
    }
   ],
   "source": [
    "def my_cmp_str(a, b):\n",
    "\n",
    "    la = len(a)\n",
    "    lb = len(b)\n",
    "    \n",
    "    # se la lunghezza è diversa:\n",
    "    if la != lb:       \n",
    "        return (lb-la)\n",
    "    \n",
    "    # se invece la lunghezza è uguale:\n",
    "    elif a==b:         \n",
    "        return 0\n",
    "    elif a<b:      # lexicographic order\n",
    "        return 1\n",
    "    else:\n",
    "        return -1 \n",
    "\n",
    "print(\"RESULT my_cmp_str: \", sorted(my_list2, key=functools.cmp_to_key(my_cmp_str)))"
   ]
  },
  {
   "cell_type": "markdown",
   "metadata": {},
   "source": [
    "-----\n",
    "### Exercise: Insertion Sort with a comparator\n",
    "Write the function ```InsertionSort(coll, cmp)``` that returns a sorted list with the elements in *coll* using \n",
    "```cmp```as a comparator."
   ]
  },
  {
   "cell_type": "code",
   "execution_count": 10,
   "metadata": {},
   "outputs": [],
   "source": [
    "def InsertionSort_CMP(my_list, cmp):\n",
    "\n",
    "    for j in range(1, len(my_list)):\n",
    "        key = my_list[j]\n",
    "        i = j - 1\n",
    "        while i > -1 and cmp(my_list[i], key) > 0: # cmp usato per stabilire ordine della k rispetto a my_list[i]\n",
    "            my_list[i+1] = my_list[i]\n",
    "            i = i-1\n",
    "\n",
    "        my_list[i + 1] = key\n",
    "\n",
    "    return my_list"
   ]
  },
  {
   "cell_type": "code",
   "execution_count": 12,
   "metadata": {},
   "outputs": [],
   "source": [
    "def test_sortedness(my_list, cmp):\n",
    "    return InsertionSort_CMP(my_list, cmp) == sorted(my_list, key = functools.cmp_to_key(cmp))\n",
    "\n",
    "assert test_sortedness(my_list, my_cmp_num), \"Must be sorted\"\n",
    "assert test_sortedness(my_list2, my_cmp_str), \"Must be sorted\""
   ]
  },
  {
   "cell_type": "markdown",
   "metadata": {},
   "source": [
    "-----\n",
    "\n",
    "### Exercise: Intersection of two lists\n",
    "Write a function ```intersection_slow(l1, l2)``` which returns the intersection of the two lists l1 and l2.\n",
    "\n",
    "Use the trivial algorithms that runs in $\\Theta(|l1|\\times|l2|)$. "
   ]
  },
  {
   "cell_type": "code",
   "execution_count": 13,
   "metadata": {},
   "outputs": [],
   "source": [
    "def intersection_slow(l1, l2):\n",
    "\n",
    "    intersect = list()\n",
    "\n",
    "    for i in range(len(l1)):\n",
    "        for j in range(len(l2)):\n",
    "            if l1[i] == l2[j] and l1[i] not in intersect:\n",
    "                intersect.append(l1[i])\n",
    "\n",
    "    return intersect"
   ]
  },
  {
   "cell_type": "code",
   "execution_count": 14,
   "metadata": {},
   "outputs": [],
   "source": [
    "## Test here your implementation \n",
    "\n",
    "l1 = [3, 5, 1, 2]\n",
    "l2 = [1, 4, 6, 2]\n",
    "\n",
    "assert set(intersection_slow(l1, l2)) == set([1, 2]), \"Urca\""
   ]
  },
  {
   "cell_type": "markdown",
   "metadata": {},
   "source": [
    "----\n",
    "### Exercise: Faster intersection of two lists\n",
    "Write a function ```intersection(l1, l2)``` which returns the intersection of the two lists l1 and l2.\n",
    "\n",
    "Assume that both l1 and l2 are sorted!"
   ]
  },
  {
   "cell_type": "code",
   "execution_count": 40,
   "metadata": {},
   "outputs": [],
   "source": [
    "def intersection(l1, l2):\n",
    "    i = 0  # per iterare su l1\n",
    "    j = 0  # per iterare su l2\n",
    "    intersect = []\n",
    "\n",
    "    while i < len(l1) and j < len(l2):\n",
    "        if l1[i] == l2[j]:\n",
    "            intersect.append(l1[i])\n",
    "            i += 1\n",
    "            j += 1\n",
    "        elif l1[i] < l2[j]:\n",
    "            i += 1\n",
    "        else:\n",
    "            j += 1\n",
    "\n",
    "    return intersect"
   ]
  },
  {
   "cell_type": "code",
   "execution_count": 41,
   "metadata": {},
   "outputs": [
    {
     "name": "stdout",
     "output_type": "stream",
     "text": [
      "[5, 7, 10, 13]\n"
     ]
    }
   ],
   "source": [
    "A = [1, 2, 3, 5, 6, 7, 10, 10, 11, 11, 11, 11, 11, 12, 13]\n",
    "B = [5, 7, 8, 9, 10, 13]\n",
    "\n",
    "print(intersection(A, B))"
   ]
  },
  {
   "cell_type": "code",
   "execution_count": 43,
   "metadata": {},
   "outputs": [],
   "source": [
    "## Test here your implementation \n",
    "\n",
    "l1 = sorted([3, 5, 1, 2])\n",
    "l2 = sorted([1, 4, 6, 2])\n",
    "\n",
    "\n",
    "assert set(intersection(l1, l2)) == set([1, 2]), \"Urca\""
   ]
  },
  {
   "cell_type": "markdown",
   "metadata": {},
   "source": [
    "----\n",
    "### Exercise: You own search engine\n",
    "You are given a collection of texts and you want to build your own search engine, people at Google are already very scared!\n",
    "\n",
    "Modern search engines are based on a data structure called *Inverted Index*. \n",
    "\n",
    "Each document of the collection is assigned an identifier, starting from 0.\n",
    "An inverted index stores a list, called *inverted list*, for each term of the collection.\n",
    "The list for a term *t* contains the identifiers of all the documents containing term *t*. The list is sorted.\n",
    "\n",
    "For example,\n",
    "\n",
    "````\n",
    "C = [\"dog cat elephant monkey\",  \"dog lion tiger\", \"fish dog dog cat cow\"]\n",
    "\n",
    "````\n",
    "\n",
    "The list of term *cat* is [0,2], the list of *elephant* is [0].\n",
    "\n",
    "Given two terms, an AND query reports all the documents containing both terms. For example, \n",
    "*query(\"cat\", \"dog\"), the result is [0, 2].\n",
    "\n",
    "You goal is to implement a simple search engine. Do the following. \n",
    "\n",
    "- Given the collection, build a dictionary that maps each term to its inverted list. Observe that \n",
    "each document occurs at most once in each list. \n",
    "- Implement a function *query* which answers an AND query. "
   ]
  },
  {
   "cell_type": "code",
   "execution_count": 44,
   "metadata": {},
   "outputs": [
    {
     "name": "stdout",
     "output_type": "stream",
     "text": [
      "{'dog': [0, 1, 2, 2], 'cat': [0, 2], 'elephant': [0], 'monkey': [0], 'lion': [1], 'tiger': [1], 'fish': [2], 'cow': [2]}\n"
     ]
    }
   ],
   "source": [
    "def build_index(C):\n",
    "    index ={}\n",
    "    \n",
    "    for c in C:\n",
    "        c_elements = c.split(\" \")\n",
    "        \n",
    "        for c_el in c_elements:\n",
    "            if c_el not in index.keys():\n",
    "                index[c_el] = [C.index(c)]\n",
    "            else:\n",
    "                index[c_el].append(C.index(c))\n",
    "                \n",
    "    return index\n",
    "\n",
    "C = [\"dog cat elephant monkey\",  \"dog lion tiger\", \"fish dog dog cat cow\"]\n",
    "\n",
    "print(build_index(C))"
   ]
  },
  {
   "cell_type": "code",
   "execution_count": 45,
   "metadata": {},
   "outputs": [],
   "source": [
    "def query(index, t1, t2):  \n",
    "    intersection = []\n",
    "    for i in index[t1]:\n",
    "        if i in index[t2]:\n",
    "            intersection.append(i)\n",
    "            \n",
    "    \n",
    "    return intersection"
   ]
  },
  {
   "cell_type": "code",
   "execution_count": 46,
   "metadata": {},
   "outputs": [],
   "source": [
    "## Test here your implementation \n",
    "\n",
    "C = [\"dog cat elephant monkey\",  \"dog lion tiger\", \"fish dog dog cat cow\"]\n",
    "\n",
    "index = build_index(C)\n",
    "assert query(index, \"cat\", \"dog\") == [0, 2], \"Urca\""
   ]
  },
  {
   "cell_type": "markdown",
   "metadata": {},
   "source": [
    "----\n",
    "# Lecture 2\n",
    "---\n",
    "### Exercise: Binary Vector\n",
    "You are given a binary vector, i.e., each element is either 0 or 1. Implements an easy variant of partition to sort the vector.\n"
   ]
  },
  {
   "cell_type": "code",
   "execution_count": 47,
   "metadata": {},
   "outputs": [
    {
     "name": "stdout",
     "output_type": "stream",
     "text": [
      "[0, 0, 1, 0, 0, 1, 1, 1, 0, 1, 1, 1, 0, 1, 1, 0, 1, 0, 1, 0]\n"
     ]
    }
   ],
   "source": [
    "import random \n",
    "\n",
    "binary = [random.randint(0,1) for _ in range(20)]\n",
    "print(binary)"
   ]
  },
  {
   "cell_type": "code",
   "execution_count": 48,
   "metadata": {},
   "outputs": [
    {
     "name": "stdout",
     "output_type": "stream",
     "text": [
      "[0, 0, 0, 0, 0, 0, 0, 0, 1, 1, 1, 1, 1, 1, 1, 1, 1, 1, 1, 0]\n"
     ]
    }
   ],
   "source": [
    "def partition_binary(A):\n",
    "    p = 0\n",
    "    A.append(0)\n",
    "    r = len(A)-1\n",
    "\n",
    "    x = A[r]\n",
    "    i = p-1\n",
    "\n",
    "    for j in range(p, r-1):\n",
    "        if A[j] == x:\n",
    "            i+=1\n",
    "            A[i], A[j] = A[j], A[i]\n",
    "\n",
    "    A.pop()\n",
    "\n",
    "    return A #ritorniamo A e non i+1 perchè è sufficiente una sola iterazione di questa variante per ordinare l'intero array, non c'è bisogno di richiamare ricorsivamente il QuickSort\n",
    "\n",
    "print(partition_binary(binary))"
   ]
  },
  {
   "cell_type": "markdown",
   "metadata": {},
   "source": [
    "\n",
    "---\n",
    "### Exercise: QuickSort\n",
    "Below an implementation of QuickSort. \n",
    "\n",
    "In this exercise you have to:\n",
    "- Write detailed comments to describe crucial parts of the code below (to prove you have understand it)\n",
    "- Implement a random selection of the pivot element"
   ]
  },
  {
   "cell_type": "code",
   "execution_count": 49,
   "metadata": {},
   "outputs": [],
   "source": [
    "import random\n",
    "\n",
    "def partition(A, low, high):\n",
    "    \n",
    "    # La seguente funzione sceglie l'indice del pivot\n",
    "    def pivot_selection(A, low, high):\n",
    "        if len(A) >= 5: # Se il nostro sub-array ha più di 5 elementi, scegliamo quello centrale tra 5 valori causali\n",
    "            possible_pivot = []\n",
    "            i = 0\n",
    "            while i < 5:\n",
    "                rnd = random.randint(low, high)\n",
    "                poss_pivot_el = (A[rnd], rnd)\n",
    "                possible_pivot.append(poss_pivot_el) # Inseriamo nella lista le tuple (Valore, Indice)\n",
    "                i += 1\n",
    "            possible_pivot.sort(key=lambda x: x[0]) # Ordiniamo la lista in base al valore dell'elemento\n",
    "            return possible_pivot[2][1] # Ritorniamo l'indice dell'elemento centrale della lista\n",
    "        else:                           # Se il nostro sub-array ha meno di 5 elementi, scegliamo semplicemente un elemento casuale\n",
    "            rnd = random.randint(low, high)\n",
    "            return rnd\n",
    "    \n",
    "    pivot_index = pivot_selection(A, low, high)\n",
    "    A[pivot_index], A[high] = A[high], A[pivot_index] # Spostiamo il pivot al termine del sub-array che vogliamo ordinare, questo ci servirà per poter scambiare di volta in volta il termine in A[i] con il termine in A[j] senza incorrere nel pivot stesso\n",
    "    pivot = A[high] # Salviamo il valore del pivot\n",
    "    i = low-1 # low rappresenta il limite inferiore del sub-array che voglimo ordinare, quindi i rappresenta l'indice immediatamente prima di tale sub-array\n",
    "\n",
    "\n",
    "    # con il for-loop qui sotto cominciamo a iterare ogni elemento del sub-array a partire da j = law. Quando l'elemento in A[j] è inferiore al valore del pivot aumentiamo di 1 l'indice i, che corrisponderà quindi ora\n",
    "    # al primo (a partire da sx) tra gli elementi maggiori del pivot e scambiamo la sua posizione con l'elemento corrispondere all'indice j (il quale è invece inferiore al pivot: questo ci permette di spostare iterativamente\n",
    "    # elementi maggiori del pivot a destra dell'indice i ed elementi inferiori del pivot a sinistra dell'indice i.\n",
    "    for j in range(low, high):\n",
    "        if A[j] <= pivot:\n",
    "            i = i+1\n",
    "            A[i], A[j] = A[j], A[i]\n",
    "\n",
    "    A[i+1], A[high] = A[high], A[i+1] # Quando abbiamo terminato il for-loop, tutti gli elementi inferiori al pivot si trovano a sinistra di i, mentre tutti gli elem maggiori del pivot hanno indice >= i.\n",
    "                                      # Quindi non ci resta che scambiare il pivot con l'elemento avente indice i+1 per inserirlo nella posizione corretta\n",
    "    return i+1 # Questo valore sarà il valore di \"pi\" nella successiva iterazione ricorsiva del QuickSort e quindi dividerà il sub-array appena ordinato in 2 ulteriori sub-array da ordinare a loro volta con il metodo appena visto\n",
    "\n",
    "\n",
    "\n",
    "\n",
    "def quickSort_rec(A, low, high):\n",
    "    if low < high:\n",
    "        pi = partition(A, low, high) # Effettuiamo la fase di partizione (vista sopra) sul sub-array di riferimento e settiamo pi = i+1, dove i viene ottenuto come risultato dell'iterazione avvenuta all'interno di partition().\n",
    "        quickSort_rec(A, low, pi-1)  # Come detto anche sopra, una volta ottenuto pi lo utilizziamo come soglia inferiore e superiore per i 2 sub-array successivi sui quali applichiamo nuovamente il QuickSort\n",
    "        quickSort_rec(A, pi+1, high)\n",
    "\n",
    "\n",
    "\n",
    "def quickSort(B):\n",
    "    A = B[:] # Copy the array just because we decided to return a sorted copy of the original array\n",
    "    quickSort_rec(A, 0, len(A)-1) # Chiamiamo il QuickSort sull'array A, passando come low 0 e come high l'indice dell'ultimo elemento dell'array\n",
    "    return A"
   ]
  },
  {
   "cell_type": "code",
   "execution_count": 50,
   "metadata": {},
   "outputs": [
    {
     "data": {
      "text/plain": [
       "[1, 2, 3, 4]"
      ]
     },
     "execution_count": 50,
     "metadata": {},
     "output_type": "execute_result"
    }
   ],
   "source": [
    "quickSort([2, 1, 4, 3])"
   ]
  },
  {
   "cell_type": "markdown",
   "metadata": {},
   "source": [
    "----\n",
    "### Exercise: Merge Sort\n",
    "Complete the implementation of Merge Sort by implementing function ```merge()```."
   ]
  },
  {
   "cell_type": "code",
   "execution_count": 51,
   "metadata": {},
   "outputs": [],
   "source": [
    "## Your implementation here!!!\n",
    "\n",
    "def merge(A, l, m, r):\n",
    "    \n",
    "    # l = primo elem left_array\n",
    "    # m = ultimo elem left_array\n",
    "    # m + 1 = primo elem right array\n",
    "    # r = ultimo elem rigth array\n",
    "    \n",
    "    n1 = m - l + 1\n",
    "    n2 = r - m\n",
    "    \n",
    "    L = [None]*n1\n",
    "    R = [None]*n2\n",
    "       \n",
    "    for i in range(n1):\n",
    "        L[i] = A[l+i]\n",
    "    for i in range(n2):\n",
    "        R[i] = A[m+i+1]\n",
    "        \n",
    "    \n",
    "    i = 0\n",
    "    j = 0\n",
    "    k = l\n",
    "    \n",
    "    # Confronto tra elementi di L e R fino a quando L o R non terminano\n",
    "    while i < n1 and j < n2:\n",
    "        if L[i] <= R[j]:\n",
    "            A[k] = L[i]\n",
    "            i += 1\n",
    "        else:\n",
    "            A[k] = R[j]\n",
    "            j += 1\n",
    "        k += 1\n",
    "    \n",
    "    # Se terminata l'analisi del sub-array R, entriamo in questo while per terminare L\n",
    "    while i < n1:\n",
    "        A[k] = L[i]\n",
    "        i += 1\n",
    "        k += 1\n",
    "        \n",
    "    # Se terminata l'analisi del sub-array L, entriamo in questo while per terminare R\n",
    "    while j < n2:\n",
    "        A[k] = R[j]\n",
    "        j += 1\n",
    "        k += 1"
   ]
  },
  {
   "cell_type": "markdown",
   "metadata": {},
   "source": [
    "----\n",
    "# Lecture 3\n",
    "----\n",
    "### Exercise: Activity Selection Problem\n",
    "Activity selection problem is a problem in which a person has a list of works to do. \n",
    "\n",
    "Each of the activities has a starting time and ending time. \n",
    "\n",
    "We need to schedule the activities in such a way the person can complete a maximum number of activities. \n",
    "\n",
    "Since the timing of the activities  may overlap, so it might not be possible to complete all the activities and thus we need to schedule the activities in such a way that the maximum number of activities can be finished."
   ]
  },
  {
   "cell_type": "code",
   "execution_count": 53,
   "metadata": {},
   "outputs": [],
   "source": [
    "def greedy_activity_selector(acts):\n",
    "    acts.sort(key=lambda x: x[1]) # Complexity: qui si può utilizzare il QuickSort precedentmente descritto per ordinare acts in teta(n * log(n)) time complexity (media)\n",
    "\n",
    "    selected_acts = [] # Compelxity: costante\n",
    "\n",
    "    last_finish_time = 0 # Complexity: costante\n",
    "\n",
    "    for act in acts: # Questo for-loop itera la lista ordinata una singola volta, per cui complexity = teta(n)\n",
    "        s, f = act # Complexity: Costante\n",
    "        if s >= last_finish_time:\n",
    "            selected_acts.append(act) # Complexity: costante\n",
    "            last_finish_time = f # Complexity: costante\n",
    "\n",
    "    return selected_acts\n",
    "\n",
    "# La complexity totale dell'algoritmo, ignorando direttamente le costanti è pari a (n + n(log(n))).\n",
    "# Utilizzando noi un'asymptotic notation, consideriamo solo il termine dominante, ovvero n(log(n)).\n",
    "# La complexity totale dell'algoritmo è quindi pari a teta(n * log(n))"
   ]
  },
  {
   "cell_type": "code",
   "execution_count": 54,
   "metadata": {},
   "outputs": [
    {
     "name": "stdout",
     "output_type": "stream",
     "text": [
      "Attività selezionate:  [(1, 4), (5, 7), (8, 9)]\n"
     ]
    }
   ],
   "source": [
    "## Test your implementation here\n",
    "activities = [(0, 6), (1, 4), (2, 5), (3, 8), (5, 7), (8, 9)]\n",
    "selected = greedy_activity_selector(activities)\n",
    "print(\"Attività selezionate: \", selected)"
   ]
  },
  {
   "cell_type": "markdown",
   "metadata": {},
   "source": [
    "----\n",
    "### Exercise: Fractional Knapsack Problem\n",
    "\n",
    "Your goal: Write a function fractional_knapsack(L,W) which takes a list L of pairs (value, weight) and the capacity  𝑊  and returns maximum possible value we can obtain by selecting items."
   ]
  },
  {
   "cell_type": "code",
   "execution_count": 55,
   "metadata": {},
   "outputs": [],
   "source": [
    "def fractional_knapsack(L, W):\n",
    "    ratios = [(v / w, v, w) for v, w in L] #Complexity: teta(n)\n",
    "    ratios.sort(key=lambda x: x[0], reverse=True) #Complexity: teta(n * log(n))\n",
    "\n",
    "    selected_W = 0\n",
    "    selected_V = 0\n",
    "\n",
    "    for ratio, value, weight in ratios: #Complexity: teta(n)\n",
    "\n",
    "        if weight < (W-selected_W):\n",
    "            selected_V += value\n",
    "            selected_W += weight\n",
    "\n",
    "        else:\n",
    "            selected_V += (W-selected_W)*ratio\n",
    "            break\n",
    "\n",
    "    return selected_V\n",
    "\n",
    "#Complexity totale algoritmo: teta(n * log(n))"
   ]
  },
  {
   "cell_type": "code",
   "execution_count": 56,
   "metadata": {},
   "outputs": [],
   "source": [
    "## Test your implementation here\n",
    "\n",
    "L = [(60, 10), (100, 20), (120, 30)]\n",
    "\n",
    "assert fractional_knapsack(L, 50) == 240.0, \"Fail!\"\n",
    "\n",
    "L = [(30, 5), (40, 10), (45, 15), (77, 22), (90, 25)]\n",
    "\n",
    "assert fractional_knapsack(L, 60) == 230.0, \"Fail!\"\n",
    "\n",
    "assert fractional_knapsack(L, 15) == 70.0,  \"Fail!\"\n",
    "\n",
    "assert fractional_knapsack(L, 10) == 50.0,  \"Fail!\""
   ]
  },
  {
   "cell_type": "code",
   "execution_count": 57,
   "metadata": {},
   "outputs": [
    {
     "name": "stdout",
     "output_type": "stream",
     "text": [
      "True\n",
      "True\n",
      "True\n",
      "True\n"
     ]
    }
   ],
   "source": [
    "## Test your implementation here (Ulteriori prove)\n",
    "\n",
    "L = [(60, 10), (100, 20), (120, 30)]\n",
    "\n",
    "print(fractional_knapsack(L, 50) == 240.0)\n",
    "\n",
    "#assert fractional_knapsack(L, 50) == 240.0, \"Fail!\"\n",
    "\n",
    "L = [(30, 5), (40, 10), (45, 15), (77, 22), (90, 25)]\n",
    "\n",
    "print(fractional_knapsack(L, 60) == 230.0)\n",
    "\n",
    "print(fractional_knapsack(L, 15) == 70.0)\n",
    "\n",
    "print(fractional_knapsack(L, 10) == 50.0)"
   ]
  },
  {
   "cell_type": "markdown",
   "metadata": {},
   "source": [
    "----\n",
    "# Lecture 4\n",
    "\n",
    "----\n",
    "\n",
    "### Exercise: K-largest elements of a array\n",
    "\n",
    "We want to compute the K-largest elements of a array A. \n",
    "\n",
    "There are three possible algorithms to solve this problem:\n",
    "\n",
    "\n",
    "#### Algorithm 1: Sorting\n",
    "The easiest way to solve this is by sorting the array in decreasing order and reporting the first K elements. \n",
    "\n",
    "This algorithm costs $\\Theta(n\\log n)$ time. \n",
    "\n",
    "Implement this algorithm in a function ```k_largest_sort(A, K)```and test its correctness.\n",
    "\n",
    "#### Algorithm 2: QuickSelect\n",
    "Implement the QuickSelect algorithm and use it to find the K-largest element E in the array A. Then, scan A again \n",
    "to collect the K elements larger than or equal to E. Finally, sort the collected elements.\n",
    "\n",
    "This algorithm costs $\\Theta(n + K\\log K)$ time (in expectation). \n",
    "\n",
    "Implement this algorithm in a function ```k_largest_quickselect(A, K)```and test its correctness.\n",
    "\n",
    "\n",
    "#### Algorithm 3: Heap\n",
    "You have to implement the following faster algorithm as a function ```k_largest(A,K)```.\n",
    "- Scan the array from left to right and keep a min-heap. The min-heap will contain at most K elements.\n",
    "- Insert the current element into the heap, if the heap has less than K elements or the current element is larger than the minimum in the heap. If the heap has more than K elements, remove the minimum. \n",
    "- Sort the collected elements.\n",
    "\n",
    "This algorithm runs in $\\Theta(n\\log K)$ time.\n",
    "\n",
    "Implement this algorithm in a function ```k_largest_heap(A, K)```and test its correctness."
   ]
  },
  {
   "cell_type": "code",
   "execution_count": 58,
   "metadata": {},
   "outputs": [
    {
     "data": {
      "text/plain": [
       "[1000, 1001, 1002]"
      ]
     },
     "execution_count": 58,
     "metadata": {},
     "output_type": "execute_result"
    }
   ],
   "source": [
    "### Algorithm 1 goes here\n",
    "\n",
    "def k_largest_sort(A, K):\n",
    "    B = quickSort(A)\n",
    "    i = len(B)-K\n",
    "    return B[i:]\n",
    "\n",
    "array_casuale = [2, 4, 104, 3, 5, 6, 1, 34, 53, 67, 1000, 1001, 1002, 89, 65, 23, 54, 62, 100]\n",
    "k_largest_sort(array_casuale, 3)"
   ]
  },
  {
   "cell_type": "code",
   "execution_count": 60,
   "metadata": {},
   "outputs": [
    {
     "data": {
      "text/plain": [
       "[1000, 1001, 1002]"
      ]
     },
     "execution_count": 60,
     "metadata": {},
     "output_type": "execute_result"
    }
   ],
   "source": [
    "### Algorithm 2 goes here\n",
    "\n",
    "def partition_largest(A, low, high): \n",
    "        # random selection of the pivot\n",
    "        rnd = random.randint(low, high)\n",
    "        A[rnd], A[high] = A[high], A[rnd]\n",
    "        pivot = A[high]\n",
    "\n",
    "        i = low-1\n",
    "\n",
    "        for j in range(low, high): \n",
    "            if A[j] <= pivot:   \n",
    "                i += 1 \n",
    "                A[i], A[j] = A[j], A[i] \n",
    "\n",
    "        A[i+1], A[high] = A[high], A[i+1] \n",
    "        return i+1\n",
    "\n",
    "    \n",
    "def k_largest_rec(A, low, high, K):\n",
    "    \n",
    "    if K > 0 and low <= high:\n",
    "        \n",
    "        pivot = partition_largest(A, low, high)\n",
    "\n",
    "        if (pivot == len(A)- K):\n",
    "            return A[pivot]\n",
    "        if (pivot < len(A)- K):\n",
    "            return k_largest_rec(A, pivot+1, high, K)  \n",
    "        else:\n",
    "            return k_largest_rec(A, low, pivot-1, K)  \n",
    "\n",
    "    return None\n",
    "\n",
    "def k_largest_quickselect(A, K):\n",
    "    \n",
    "    B = A[:] # Copy the array just because we decided to return a sorted copy of the original array\n",
    "    \n",
    "    \n",
    "    Kth = k_largest_rec(B, 0, len(B)-1, K)\n",
    "    coll = []\n",
    "    for e in A:\n",
    "        if e >= Kth:\n",
    "            coll.append(e)\n",
    "    coll = quickSort(coll)\n",
    "    return coll\n",
    "\n",
    "\n",
    "array_casuale = [2, 4, 104, 3, 5, 6, 1, 34, 53, 67, 1000, 1001, 1002, 89, 65, 23, 54, 62, 100]\n",
    "\n",
    "k_largest_quickselect(array_casuale, 3)\n",
    "    "
   ]
  },
  {
   "cell_type": "code",
   "execution_count": 62,
   "metadata": {},
   "outputs": [],
   "source": [
    "def parent(i): # Ritorna indice parent\n",
    "    return (i - 1) // 2\n",
    "\n",
    "def left_child(i): # Ritorna indice figlio sx\n",
    "    return 2 * i + 1\n",
    "\n",
    "def right_child(i): #Ritorna indice figlio dx\n",
    "    return 2 * i + 2\n",
    "\n",
    "\n",
    "def Insert_in_min_Heap(min_heap, key):\n",
    "\n",
    "    min_heap.append(float('inf'))\n",
    "    i = len(min_heap) - 1\n",
    "    Decrease_key_in_Min_Heap(min_heap, i, key)\n",
    "\n",
    "def Decrease_key_in_Min_Heap(min_heap, i, key):\n",
    "\n",
    "    if key > min_heap[i]:\n",
    "        return(\"Error\")\n",
    "\n",
    "    min_heap[i] = key\n",
    "\n",
    "    while i > 0 and min_heap[parent(i)] > min_heap[i]:\n",
    "        min_heap[parent(i)], min_heap[i] = min_heap[i], min_heap[parent(i)] # Swap\n",
    "        i = parent(i)\n",
    "\n",
    "\n",
    "def Min_Heapify (A, i):\n",
    "\n",
    "    l = left_child(i)\n",
    "    r = right_child(i)\n",
    "    lowest = i\n",
    "\n",
    "    if l < len(A) and A[l] < A[i]:\n",
    "        lowest = l\n",
    "\n",
    "    if r < len(A) and A[r] < A[lowest]:\n",
    "        lowest = r\n",
    "\n",
    "    if lowest != i:\n",
    "        A[i], A[lowest] = A[lowest], A[i]\n",
    "        Min_Heapify(A, lowest)\n",
    "\n",
    "\n",
    "def k_largest_heap(A, k):\n",
    "\n",
    "    min_heap = []\n",
    "\n",
    "    for a in A:\n",
    "        if len(min_heap) < k:\n",
    "            Insert_in_min_Heap(min_heap, a)\n",
    "\n",
    "        # Riempiendo noi la min_heap un elemento alla volta ed essendo k > 1, allora se l'if superiore non è rispettato, singifica che la min_heap in questo elif ha esattamente k elementi\n",
    "        # In questo caso, eliminiamo il minimo mentre inseriamo il nuovo elemento\n",
    "        elif a > min_heap[0]:\n",
    "            min_heap[0] = a\n",
    "            Min_Heapify (min_heap, 0)\n",
    "\n",
    "    min_heap.sort()\n",
    "\n",
    "    return min_heap\n",
    "\n",
    "# Time-Complexity:\n",
    "# Esecuzione Decrease_key_in_Min_Heap = teta(log(k))\n",
    "# Esecuzione Min_Heap = teta(log(k))\n",
    "# Scansione dell'array per inserire elementi in min_heap = teta(n)\n",
    "# Complexity totale del loop = teta(n * log(k))\n",
    "# Complexity di min_heap.sort() = teta(k * log(k))\n",
    "# Per k sufficientemente minore di n: Time-Complexity totale dell'algoritmo = teta(n * log(k))"
   ]
  },
  {
   "cell_type": "code",
   "execution_count": 63,
   "metadata": {},
   "outputs": [],
   "source": [
    "## test your implementation\n",
    "import random\n",
    "def get_random_array(n, b = 50):\n",
    "    return [random.randint(0, b) for _ in range(n)]\n",
    "a = get_random_array(1000, 10000)\n",
    "\n",
    "assert sorted(k_largest_sort(a, 10)) == sorted(a)[-10:], \"FAIL!\"  \n",
    "assert sorted(k_largest_quickselect(a, 10)) == sorted(a)[-10:], \"FAIL!\"  \n",
    "assert sorted(k_largest_heap(a, 10)) == sorted(a)[-10:], \"FAIL!\"  "
   ]
  },
  {
   "cell_type": "code",
   "execution_count": 64,
   "metadata": {},
   "outputs": [
    {
     "name": "stdout",
     "output_type": "stream",
     "text": [
      "1.15 s ± 4.59 ms per loop (mean ± std. dev. of 7 runs, 1 loop each)\n",
      "17.4 ms ± 115 µs per loop (mean ± std. dev. of 7 runs, 100 loops each)\n",
      "2.37 ms ± 6.53 µs per loop (mean ± std. dev. of 7 runs, 100 loops each)\n"
     ]
    }
   ],
   "source": [
    "a = get_random_array(50000, 100)\n",
    "K = 10\n",
    "\n",
    "%timeit k_largest_sort(a, K)\n",
    "%timeit k_largest_quickselect(a, K)\n",
    "%timeit k_largest_heap(a, K)"
   ]
  },
  {
   "cell_type": "markdown",
   "metadata": {
    "slideshow": {
     "slide_type": "subslide"
    }
   },
   "source": [
    "---\n",
    "\n",
    "### Exercise: compute distinct elements\n",
    "You are given a list A of elements and you want to obtain the list of distict elements in A.\n",
    "\n",
    "There are two possible algorithms to do this:\n",
    "\n",
    "- Use ```list(set(A))```\n",
    "- Sort A and then scan. Implement this as a function ```distinct(A)``` \n",
    "\n",
    "Compare these two approaches by varying the size of the array and the number of distinct elements."
   ]
  },
  {
   "cell_type": "code",
   "execution_count": 65,
   "metadata": {},
   "outputs": [],
   "source": [
    "def distinct(A):\n",
    "    \n",
    "    B = quickSort(A)\n",
    "    \n",
    "    i = 0\n",
    "    j = 1\n",
    "    \n",
    "    while j < len(B):\n",
    "        if B[i] == B[j]:\n",
    "            B.pop(j)\n",
    "        else:\n",
    "            i+=1\n",
    "            j+=1\n",
    "    return B"
   ]
  },
  {
   "cell_type": "code",
   "execution_count": 66,
   "metadata": {},
   "outputs": [
    {
     "name": "stdout",
     "output_type": "stream",
     "text": [
      "[0, 1, 2, 3, 4, 5, 6, 7, 8, 9, 10, 11, 12, 13, 14, 15, 16, 17, 18, 19, 20, 21, 22, 23, 24, 25, 26, 27, 28, 29, 30, 31, 32, 33, 34, 35, 36, 37, 38, 39, 40, 41, 42, 43, 44, 45, 46, 47, 48, 49, 50]\n",
      "[1, 2, 3, 4, 5, 6]\n"
     ]
    }
   ],
   "source": [
    "## test your implementation\n",
    "a = get_random_array(1000)\n",
    "\n",
    "assert distinct(a) == sorted(list(set(a))), \"FAIL!\"\n",
    "print(distinct(a))\n",
    "\n",
    "A = [2, 1, 3, 4, 5, 4, 3, 6, 3]\n",
    "print(distinct(A))"
   ]
  },
  {
   "cell_type": "code",
   "execution_count": 67,
   "metadata": {},
   "outputs": [
    {
     "name": "stdout",
     "output_type": "stream",
     "text": [
      "60.9 µs ± 309 ns per loop (mean ± std. dev. of 7 runs, 10,000 loops each)\n",
      "396 ms ± 2.53 ms per loop (mean ± std. dev. of 7 runs, 1 loop each)\n"
     ]
    }
   ],
   "source": [
    "a = get_random_array(10000, 10)\n",
    "\n",
    "%timeit list(set(a))\n",
    "%timeit distinct(a)"
   ]
  },
  {
   "cell_type": "markdown",
   "metadata": {},
   "source": [
    "---\n",
    "\n",
    "### Exercise: Pareto frontier of a set of points in 2-D space (aka Skyline problem)\n",
    "We are given a set $S$ of $n$ 2D points.\n",
    "A point $(x,y)$ dominates a point $(x',y')$ iff $𝑥'\\leq 𝑥$ and $y'\\leq 𝑦$. \n",
    "Our goal is to find the set $P$ of dominating points in $S$. \n",
    "This corresponds to find the Pareto frontier (or, equivalently, the skyline). \n",
    "\n",
    "The problem can be solved in $\\Theta(n\\log n)$ time.\n",
    "\n",
    "To find $P$ we need to sort points in $S$ by $x$ in descending order, \n",
    "and if $x$′𝑠 the same by $y$ in descending order. This takes $\\Theta(n\\log n)$ time. \n",
    "Then, we do the following.\n",
    "\n",
    "- Include first point in $P$ and remember this point as $𝑇$. \n",
    "- Iterates through the point (let $C$ current point):\n",
    "* if $C$ is dominated by $T$, then skip $C$ and go to next point;\n",
    "* Otherwise, include $C$ in $P$ and set $𝑇=𝐶$.\n",
    "\n",
    "This step can be performed in linear time.\n",
    "\n",
    "Implement the function ```pareto_frontier(S)```, which returns the pareto frontier $P$ of the points in $S$.\n"
   ]
  },
  {
   "cell_type": "code",
   "execution_count": 68,
   "metadata": {},
   "outputs": [
    {
     "name": "stdout",
     "output_type": "stream",
     "text": [
      "RISULTATO:  [(8, 7), (7, 8), (5, 8), (4, 9), (3, 9.5), (1, 10)]\n",
      "RISULTATO BOOL:  False\n"
     ]
    }
   ],
   "source": [
    "import functools\n",
    "\n",
    "def pareto_frontiers(S):\n",
    "\n",
    "    def my_cmp(a, b):\n",
    "        if a[0] > b[0]:\n",
    "            return -1\n",
    "        elif a[0] == b[0]:\n",
    "            if a[1] > b[1]:\n",
    "                return -1\n",
    "            elif a[1] == b[1]: # Non conoscendo la natura del dataset, includiamo anche il caso in cui a e b abbiano le stesse coordinate\n",
    "                return 0\n",
    "            else:\n",
    "                return 1\n",
    "        else:\n",
    "            return 1\n",
    "\n",
    "    sorted_S = sorted(S, key=functools.cmp_to_key(my_cmp))\n",
    "\n",
    "    P = []\n",
    "    P.append(sorted_S[0])\n",
    "    T = sorted_S[0]\n",
    "\n",
    "    for C in sorted_S[1:]:\n",
    "        if not (C[0] < T[0] and C[1] < T[1]):\n",
    "            P.append(C)\n",
    "            T = C\n",
    "\n",
    "    return P\n",
    "\n",
    "S = [(6, 7.5), (7, 8), (8, 7), (2, 9), (3, 9.5), (1, 10), (4, 9), (5, 8)]\n",
    "\n",
    "\n",
    "paretos = pareto_frontiers(S)\n",
    "\n",
    "print(\"RISULTATO: \", paretos)\n",
    "print(\"RISULTATO BOOL: \", [(1, 10), (3, 9.5), (4, 9), (7, 8), (8, 7)]==paretos)\n",
    "# Il risultato è diverso solo per il valore (5, 8), che dovrebbe trovarsi anch'esso precisamente sulla pareto-frontier."
   ]
  },
  {
   "cell_type": "markdown",
   "metadata": {},
   "source": [
    "----\n",
    "# Lecture 5\n",
    "----\n",
    "\n",
    "### Exercise: Open Addressing with linear probing\n",
    "Complete the implementation below by implementing ```Lookup```and ```Delete```."
   ]
  },
  {
   "cell_type": "code",
   "execution_count": 81,
   "metadata": {},
   "outputs": [],
   "source": [
    "## Your implementation here!!!\n",
    "\n",
    "class linear_probing_set:\n",
    "    def __init__(self, size):\n",
    "        \n",
    "        self.T = [None]*size\n",
    "        self.prime = 993319\n",
    "        self.a = random.randint(2, self.prime-1)\n",
    "        self.b = random.randint(2, self.prime-1)\n",
    "        self.n_keys = 0\n",
    "    \n",
    "    def insert(self, key): # fix len(T) < self.n_keys if you want\n",
    "        if self.lookup(key):\n",
    "            return\n",
    "        h = self.hash(key)\n",
    "        while self.T[h] != None and self.T[h] != 'D':\n",
    "            h += 1\n",
    "            if h == len(self.T):\n",
    "                h = 0\n",
    "        self.T[h] = key\n",
    "        self.n_keys += 1\n",
    "        \n",
    "    # ----------------------------------------------------\n",
    "    # Return True if key is in the set, False otherwise\n",
    "    def lookup(self, key):\n",
    "\n",
    "        h = self.hash(key)\n",
    "\n",
    "        while True:\n",
    "\n",
    "            if self.T[h] == key:\n",
    "                return True\n",
    "            elif self.T[h] == None:\n",
    "                return False\n",
    "            else: # key in T[h] != key or T[h]==\"D\"\n",
    "                h+=1\n",
    "                if h == len(self.T):\n",
    "                    h = 0\n",
    "    # Non considero il caso in cui l'array sia completamente pieno di chiavi tutte diverse da key\n",
    "    # (il chè porterebbe la funzione a un loop infinito)\n",
    "    # perchè nella funzione insert(), quando rileviamo un array pieno ne aumentiamo la size\n",
    "    # (possibile soluzione: raddoppiamo le caselle dell'array, inizializzandole a None)\n",
    "    # ----------------------------------------------------\n",
    "\n",
    "    \n",
    "    #IMPLEMENTIAMO LA DELETE()\n",
    "    # In questo caso utilizziamo una lookup che invece di tornare True torna il valore di h\n",
    "    def lookup_index(self, key):\n",
    "\n",
    "        h = self.hash(key)\n",
    "\n",
    "        while True:\n",
    "\n",
    "            if self.T[h] == key:\n",
    "                return h\n",
    "            elif self.T[h] == None:\n",
    "                return False\n",
    "            else: # key in T[h] != key or T[h]==\"D\"\n",
    "                h+=1\n",
    "                if h == len(self.T):\n",
    "                    h = 0\n",
    "\n",
    "    def delete(self, key):\n",
    "\n",
    "        h = self.lookup_index(key) # lookup definita qui sopra\n",
    "\n",
    "        if h != False:\n",
    "            self.T[h] = \"D\"\n",
    "        else:\n",
    "            print(\"key non sembra essere presente in T\")\n",
    "    \n",
    "    def hash(self, key):\n",
    "        return ((self.a*key + self.b) % self.prime) % len(self.T)\n",
    "    \n",
    "    def len(self):\n",
    "        return self.n_keys"
   ]
  },
  {
   "cell_type": "code",
   "execution_count": 82,
   "metadata": {},
   "outputs": [
    {
     "name": "stdout",
     "output_type": "stream",
     "text": [
      "key non sembra essere presente in T\n"
     ]
    }
   ],
   "source": [
    "## Test your implementation\n",
    "\n",
    "n = 10000\n",
    "\n",
    "a = get_random_array(n, n)\n",
    "\n",
    "queries = get_random_array(n, n)\n",
    "\n",
    "lp_set = linear_probing_set(2*n)\n",
    "std_set = set()\n",
    "\n",
    "for key in a:\n",
    "    lp_set.insert(key)\n",
    "    std_set.add(key)\n",
    "\n",
    "assert len(std_set) == lp_set.len(), \"Fail len!\"     \n",
    "    \n",
    "for key in a:\n",
    "    assert lp_set.lookup(key) == True, \"Lookup fail a\"\n",
    "  \n",
    "for key in queries:\n",
    "    assert lp_set.lookup(key) == (key in std_set), \"Lookup fail queries\"\n",
    "    \n",
    "for key in a[:300]:\n",
    "    lp_set.delete(key)\n",
    "    try:\n",
    "        std_set.remove(key)\n",
    "    except:\n",
    "        pass # the key has been already removed\n",
    "          \n",
    "    assert lp_set.lookup(key) == (key in std_set), \"Lookup fail delete\"    "
   ]
  },
  {
   "cell_type": "code",
   "execution_count": 83,
   "metadata": {},
   "outputs": [
    {
     "name": "stdout",
     "output_type": "stream",
     "text": [
      "2.45 ms ± 17.1 µs per loop (mean ± std. dev. of 7 runs, 100 loops each)\n",
      "355 µs ± 3.33 µs per loop (mean ± std. dev. of 7 runs, 1,000 loops each)\n"
     ]
    }
   ],
   "source": [
    "%timeit for key in queries: lp_set.lookup(key)\n",
    "    \n",
    "%timeit for key in queries: key in std_set"
   ]
  },
  {
   "cell_type": "markdown",
   "metadata": {},
   "source": [
    "----\n",
    "### Exercise: Hashing with Chains\n",
    "Complete the implementation below by implementing ```Lookup``` and ```Delete```."
   ]
  },
  {
   "cell_type": "code",
   "execution_count": 84,
   "metadata": {},
   "outputs": [],
   "source": [
    "## Your implementation here!!!\n",
    "\n",
    "## Your implementation goes here\n",
    "class chaining_set:\n",
    "    def __init__(self, size):\n",
    "        \n",
    "        self.T = []\n",
    "        for _ in range(size):\n",
    "            self.T.append([])\n",
    "        ## self.T = [ [] for _ in range(size)]\n",
    "        ## why not self.T = [ [] ] * size ? Questo metodo crea una lista di \"size\" riferimenti alla stessa lista vuota []: quindi modificare poi un elemento di una lista interna modifica lo stesso elemento di ogni lista interna \n",
    "                                         ## (in breve, le liste interne non sono indipendenti)\n",
    "        \n",
    "        self.prime = 993319\n",
    "        self.a = random.randint(2, self.prime-1)\n",
    "        self.b = random.randint(2, self.prime-1)\n",
    "        self.n_keys = 0\n",
    "        \n",
    "    def insert(self, key):\n",
    "        if self.lookup(key):\n",
    "            return\n",
    "        \n",
    "        h = self.hash(key)\n",
    "        self.T[h].append( key )\n",
    "        self.n_keys += 1\n",
    "        \n",
    "        \n",
    "# ------------------------------------------        \n",
    "    # return True if key is in the set, False otherwise\n",
    "    #IMPLEMENTIAMO LOOKUP()\n",
    "    def lookup(self, key):\n",
    "\n",
    "        h = self.hash(key)\n",
    "\n",
    "        for i in range(len(self.T[h])): # In questo caso possiamo usare la forma \"for i in\" poichè sappiamo che in ciascuna lista è presente un numero ridotto di elementi\n",
    "            if self.T[i] == key:\n",
    "                return True\n",
    "\n",
    "        return False\n",
    "    \n",
    "# ------------------------------------------        \n",
    "    #IMPLEMENTIAMO DELETE()\n",
    "\n",
    "    def delete(self, key):\n",
    "\n",
    "        h = self.hash(key)\n",
    "\n",
    "        for i in range(len(self.T[h])):\n",
    "            if self.T[i] == key:\n",
    "                self.T.pop(i)\n",
    "    # ------------------------------------------  \n",
    "    \n",
    "    def hash(self, key):\n",
    "        return ((self.a*key + self.b) % self.prime) % len(self.T)\n",
    "    \n",
    "    def len(self):\n",
    "        return self.n_keys"
   ]
  },
  {
   "cell_type": "markdown",
   "metadata": {},
   "source": [
    "----\n",
    "\n",
    "### Exercise: Dictionary\n",
    "Modify the previous code (i.e., Hashing with Chains) to implement a dictionary, i.e., store a value together with each key. \n",
    "You need to implement methods:\n",
    "- ```Insert(key, value)```: insert the key with its value. If the key was already present, change its value;\n",
    "- ```Delete(key)```: remove the key;\n",
    "- ```Lookup(key)```: return True if the key is present, False otherwise;\n",
    "- ```Value(key)```: return the value associated with the key. It returns None, if the key is not present.\n",
    "\n",
    "I suggest to store pairs (key, value) within the lists."
   ]
  },
  {
   "cell_type": "code",
   "execution_count": 86,
   "metadata": {},
   "outputs": [],
   "source": [
    "## Your implementation here!!!\n",
    "\n",
    "class chaining_set:\n",
    "    def __init__(self, size):\n",
    "        \n",
    "        self.T = []\n",
    "        for _ in range(size):\n",
    "            self.T.append([])\n",
    "        \n",
    "        self.prime = 993319\n",
    "        self.a = random.randint(2, self.prime-1)\n",
    "        self.b = random.randint(2, self.prime-1)\n",
    "        self.n_keys = 0\n",
    "\n",
    "    def insert(self, key, value):\n",
    "        if self.lookup(key):\n",
    "            return\n",
    "\n",
    "        h = self.hash(key)\n",
    "        self.T[h].append((key, value))\n",
    "        self.n_keys += 1\n",
    "\n",
    "    def lookup(self, key):\n",
    "\n",
    "        h = self.hash(key)\n",
    "\n",
    "        for i in range(len(self.T[h])):  # Anche in questo caso possiamo usare la forma \"for i in\" poichè sappiamo che in ciascuna lista è presente un numero ridotto di elementi\n",
    "            if self.T[i][0] == key:\n",
    "                return True\n",
    "\n",
    "        return False\n",
    "\n",
    "    def value(self, key):\n",
    "\n",
    "        h = self.hash(key)\n",
    "\n",
    "        for i in range(len(self.T[h])):\n",
    "            if self.T[i][0] == key:\n",
    "                return self.T[i][1]\n",
    "        print(\"key non sembra essere presente in T\")\n",
    "        return None\n",
    "\n",
    "\n",
    "    def delete(self, key):\n",
    "\n",
    "        h = self.hash(key)\n",
    "\n",
    "        for i in range(len(self.T[h])):\n",
    "            if self.T[i][0] == key:\n",
    "                self.T.pop(i)"
   ]
  },
  {
   "cell_type": "code",
   "execution_count": 89,
   "metadata": {},
   "outputs": [
    {
     "ename": "TypeError",
     "evalue": "chaining_set.insert() takes 2 positional arguments but 3 were given",
     "output_type": "error",
     "traceback": [
      "\u001b[0;31m---------------------------------------------------------------------------\u001b[0m",
      "\u001b[0;31mTypeError\u001b[0m                                 Traceback (most recent call last)",
      "Cell \u001b[0;32mIn[89], line 6\u001b[0m\n\u001b[1;32m      3\u001b[0m chaining_instance \u001b[38;5;241m=\u001b[39m chaining_set(\u001b[38;5;241m10\u001b[39m)\n\u001b[1;32m      5\u001b[0m \u001b[38;5;66;03m# Testing insert() con key ancora assente\u001b[39;00m\n\u001b[0;32m----> 6\u001b[0m \u001b[43mchaining_instance\u001b[49m\u001b[38;5;241;43m.\u001b[39;49m\u001b[43minsert\u001b[49m\u001b[43m(\u001b[49m\u001b[38;5;241;43m1\u001b[39;49m\u001b[43m,\u001b[49m\u001b[43m \u001b[49m\u001b[38;5;124;43m'\u001b[39;49m\u001b[38;5;124;43mZucca\u001b[39;49m\u001b[38;5;124;43m'\u001b[39;49m\u001b[43m)\u001b[49m\n\u001b[1;32m      7\u001b[0m chaining_instance\u001b[38;5;241m.\u001b[39minsert(\u001b[38;5;241m2\u001b[39m, \u001b[38;5;124m'\u001b[39m\u001b[38;5;124mUva\u001b[39m\u001b[38;5;124m'\u001b[39m)\n\u001b[1;32m      8\u001b[0m chaining_instance\u001b[38;5;241m.\u001b[39minsert(\u001b[38;5;241m4\u001b[39m, \u001b[38;5;124m'\u001b[39m\u001b[38;5;124mPomodoro\u001b[39m\u001b[38;5;124m'\u001b[39m)\n",
      "\u001b[0;31mTypeError\u001b[0m: chaining_set.insert() takes 2 positional arguments but 3 were given"
     ]
    }
   ],
   "source": [
    "## Write here some tests to test your implementation\n",
    "\n",
    "chaining_instance = chaining_set(10)\n",
    "\n",
    "# Testing insert() con key ancora assente\n",
    "chaining_instance.insert(1, 'Zucca')\n",
    "chaining_instance.insert(2, 'Uva')\n",
    "chaining_instance.insert(4, 'Pomodoro')\n",
    "chaining_instance.insert(10, 'Barbabietola')\n",
    "chaining_instance.insert(13, 'Cacao')\n",
    "# MESSAGGIO DI ERRORE: TypeError: chaining_set.insert() takes 2 positional arguments but 3 were given (Non capisco come risolvere)\n",
    "\n",
    "# Testing insert() con key già presente\n",
    "chaining_instance.insert(4, 'Nuovo Pomodoro')  \n",
    "print(chaining_instance.value(4))   # Output atteso: \"Pomodoro\" (Non dovrebbe sovrascrivere il valore già esistente)\n",
    "\n",
    "# Testing lookup()\n",
    "print(chaining_instance.lookup(4))  # Output atteso: True\n",
    "print(chaining_instance.lookup(3))  # Outputatteso: False\n",
    "\n",
    "# Testing Value()\n",
    "print(chaining_instance.value(4))   # Output atteso: \"Pomodoro\"\n",
    "print(chaining_instance.value(3))   # Output atteso: key non sembra essere presente in T, None\n",
    "\n",
    "# Testing delete() con key predente\n",
    "chaining_instance.delete(4)\n",
    "print(chaining_instance.lookup(4))  # Output atteso: False, perché la chiave dovrebbe essere stata eliminata\n",
    "\n",
    "# Testing delete() con key assente\n",
    "chaining_instance.delete(3)        # Output atteso: key non sembra essere presente in T"
   ]
  },
  {
   "cell_type": "markdown",
   "metadata": {},
   "source": [
    "---\n",
    "# Lecture 6\n",
    "\n",
    "--- \n",
    "### Exercise: Implements your own GroupBy\n",
    "\n",
    "In the rest of your life you are going to use GroupBy implemented in some library, but in this exercise we will implement our own simplified version. \n",
    "\n",
    "You are give a list of tuples, all with the same number of components. In our simplified implementation  of a pandas' DataFrame each tuple in the list is a row of the DataFrame. Each component of a tuple is a value of a column.\n",
    "\n",
    "#### Part I\n",
    "Our first goal is to implement an index to efficiently group by one of the component in the list. \n",
    "\n",
    "We'd like to implement a function ```groupBy(L, id)``` which takes the list of tuples ```L``` and the ```id``` of the component and returns a dictionary. The dictionary is an index very similar to what you implemented for a search engine. \n",
    "We have a key for each distinct value in column ```id```. The value of a certain key ```k``` is the list of indexes of all the tuple having value ```k``` in the column ```id```.\n",
    "This means that, if index ```p``` is in the list of key ```k```, then ```L[p][id] = k```.\n",
    "\n",
    "For example it we have tuples \n",
    "\n",
    "|   | \n",
    "|:-|\n",
    "(1, 5, 11)\n",
    "(0, 4, 1000)\n",
    "(1, 2, 11)\n",
    "(1, 4, 66) \n",
    "(0, 3, 99)\n",
    "\n",
    "The groupBy with id=0 will group by first column.\n",
    "\n",
    "The index is\n",
    "\n",
    "|   | \n",
    "|:--| \n",
    "0: [1, 4]\n",
    "1: [0, 2, 3]\n",
    " \n",
    "#### Part II\n",
    "We'd like to implement a function ```max_groupBy(index, L)``` which takes the index built in previous part on list ```L``` and returns a dictionary. \n",
    "We have a key for each distinct value in column ```id```. The value of a certain key ```k``` is the list. The list has a element for each column: the maximum value in that column for each tuple having value ```k``` in the column ```id```. This, of course, must be implemented by using the index.\n",
    "\n",
    "In the example before, we would obtain the dictionary\n",
    "\n",
    "|   | \n",
    "|:--| \n",
    "0: [0, 4, 1000]\n",
    "1: [1, 5, 66]\n",
    " \n"
   ]
  },
  {
   "cell_type": "code",
   "execution_count": 90,
   "metadata": {},
   "outputs": [
    {
     "name": "stdout",
     "output_type": "stream",
     "text": [
      "{1: [0, 2, 3], 0: [1, 4]}\n",
      "max_groupBy RESULT:  {1: [1, 5, 66], 0: [0, 4, 1000]}\n"
     ]
    }
   ],
   "source": [
    "## Your implementation here!!!\n",
    "\n",
    "# Part 1\n",
    "def groupBy(L, id):\n",
    "    index = {}\n",
    "    for i in range(len(L)):\n",
    "        val = L[i][id] # Valore specifico di posizione id nella tupla i\n",
    "        if val not in index.keys():\n",
    "            index[val] = [i]\n",
    "        else:\n",
    "            index[val].append(i)\n",
    "    return index\n",
    "\n",
    "L = [(1, 5, 11), (0, 4, 1000), (1, 2, 11), (1, 4, 66), (0, 3, 99)]\n",
    "id = 0\n",
    "\n",
    "print(groupBy(L, id))\n",
    "\n",
    "\n",
    "\n",
    "\n",
    "#Part 2\n",
    "def max_in_list(L):\n",
    "    max = L[0]\n",
    "    for i in L[1:]:\n",
    "        if i > max:\n",
    "            max = i\n",
    "    return max\n",
    "\n",
    "\n",
    "L = [(1, 5, 11), (0, 4, 1000), (1, 2, 11), (1, 4, 66), (0, 3, 99)]\n",
    "index = {1: [0, 2, 3], 0: [1, 4]}\n",
    "\n",
    "def max_groupBy(index, L):\n",
    "    max_index = {}\n",
    "\n",
    "    for i in list(index.keys()):\n",
    "        max_list = []\n",
    "\n",
    "        for w in range(len(L[0])):\n",
    "            max = -float(\"inf\")\n",
    "\n",
    "            for j in index[i]:\n",
    "                if L[j][w] > max:\n",
    "                    max = L[j][w]\n",
    "            max_list.append(max)\n",
    "\n",
    "        max_index[i] = max_list\n",
    "\n",
    "    return max_index\n",
    "\n",
    "print(\"max_groupBy RESULT: \", max_groupBy(index, L))"
   ]
  },
  {
   "cell_type": "markdown",
   "metadata": {},
   "source": [
    "---\n",
    "# Lecture 7\n",
    "---\n",
    "### Exercise: Static sorted map\n",
    "Complete and test the implementation below. You have to use binary search to solve predecessor and successor queries on a sorted array."
   ]
  },
  {
   "cell_type": "code",
   "execution_count": 96,
   "metadata": {},
   "outputs": [
    {
     "name": "stdout",
     "output_type": "stream",
     "text": [
      "(False, 11)\n",
      "(2, 0)\n",
      "(29, 9)\n"
     ]
    }
   ],
   "source": [
    "# Inserire una chiave mancante, in un array ordinato, all'indice p (mantenendo l'array ordinato) significa inserire la chiave nell'indice del suo successore e traslare la parte di destra dell'array verso destra di una posizione\n",
    "\n",
    "class StaticSortedMap:\n",
    "    def __init__(self, A):  # assume A is already sorted\n",
    "        self.sorted_map = A[:]  # copy input array\n",
    "\n",
    "    def min(self):\n",
    "        return self.sorted_map[0]\n",
    "\n",
    "    def max(self):\n",
    "        return self.sorted_map[-1]\n",
    "\n",
    "    # Se la BS trova la key, torna l'indice della key, altrimenti torna l'indice del successore\n",
    "    def search(self, key):  ## in our pseudocode BinarySearch(A, s, e, key)\n",
    "        def __binary_search(p, e, key):\n",
    "            if p > e:\n",
    "                return (False, p)  # Qui è dove capitiamo in una sub-array vuoto\n",
    "            if p == e:\n",
    "                if p == len(self.sorted_map)-1 and self.sorted_map[p] < key: # Questo è l'unico caso in cui la BS non torna l'indice del successor ma l'indice dell'ultimo elemento dell'array\n",
    "                    return (False, len(self.sorted_map)) # Per tornare la posizione di dove andrebbe inserita la key prendiamo len(map)\n",
    "                else:\n",
    "                    return (self.sorted_map[p] == key, p)\n",
    "\n",
    "            q = int((p + e) / 2)\n",
    "\n",
    "            if self.sorted_map[q] == key:\n",
    "                return (True, q)\n",
    "            if self.sorted_map[q] < key:\n",
    "                return __binary_search(q + 1, e, key)\n",
    "            else:\n",
    "                return __binary_search(p, q - 1, key)\n",
    "\n",
    "        return __binary_search(0, len(self.sorted_map) - 1, key)\n",
    "\n",
    "\n",
    "    def predecessor(self, key):\n",
    "        b, p = self.search(key)\n",
    "        if p == 0: # Gestiamo il caso in cui la search si sia fermata sul primo elemento della map: in questo caso il predecessor non è presente nella map\n",
    "            return (f\"Predecessor di {key} non presente\")\n",
    "        else:\n",
    "            return (self.sorted_map[p-1], p-1) # A prescindere dal valore di sorted_map[0], l'indice del predecessor sarà sempre (result[0]-1)\n",
    "\n",
    "    def successor(self, key):\n",
    "        b, p = self.search(key)\n",
    "\n",
    "        if b == True:\n",
    "            if p == len(self.sorted_map)-1: # Gestiamo il caso in cui la chiave cercata sia l'ultimo elemento dell'array (quindi: successore non presente nell'array)\n",
    "                return (f\"Successor di {key} non presente\")\n",
    "            else:\n",
    "                return self.sorted_map[p+1], p+1\n",
    "        else:\n",
    "            if p == len(self.sorted_map): # Gestiamo il caso in cui la chiave fosse maggiore del max nell'array (quindi: successore non presente nell'array)\n",
    "                return (f\"Successor di {key} non presente\")\n",
    "            else:\n",
    "                return self.sorted_map[p], p\n",
    "\n",
    "A = [1, 2, 3, 4, 5, 6, 7, 8, 9, 10] # len(A) = 10\n",
    "B = [2, 4, 5, 6, 9, 10, 12, 14, 22, 29, 30, 32] # len(B) = 12\n",
    "\n",
    "# Creiamo un'istanza della classe StaticSortedMap con la lista A\n",
    "map_A = StaticSortedMap(A)\n",
    "map_B = StaticSortedMap(B)\n",
    "\n",
    "# Testiamo search()\n",
    "resultA = map_A.search(0)\n",
    "resultB = map_B.search(31)\n",
    "\n",
    "# Testiamo predecessor() e successor()\n",
    "predecessor_in_B = map_B.predecessor(3)\n",
    "successor_in_B = map_B.successor(24)\n",
    "\n",
    "print(resultB)\n",
    "print(predecessor_in_B)\n",
    "print(successor_in_B)"
   ]
  },
  {
   "cell_type": "markdown",
   "metadata": {},
   "source": [
    "----\n",
    "### Exercise: Binary Search Tree\n",
    "Extend the previous implementation of Binary Search Trees to support **search(x)** operation. Test your implementation."
   ]
  },
  {
   "cell_type": "code",
   "execution_count": 97,
   "metadata": {},
   "outputs": [],
   "source": [
    "def search(self, key):\n",
    "    def __search(root, key):\n",
    "        if root == None:\n",
    "            return False  # Se il nodo presenta valore None: stiamo esplorando il figlio di un nodo foglia (torniamo False)\n",
    "        if root.getVal() == key:\n",
    "            return True  # Se il valore del nodo == key, torniamo True\n",
    "        if key < root.getVal():\n",
    "            return __search(root.left, key) # Richiamiamo ricorsivamente la __search sul left-sub-tree\n",
    "        else:\n",
    "            return __search(root.right, key) # Richiamiamo ricorsivamente la __search sul right-sub-tree\n",
    "\n",
    "    return __search(self.root, key)  # Ciò che ritorna la funzione esterna chiamata dall'utente"
   ]
  },
  {
   "cell_type": "markdown",
   "metadata": {},
   "source": [
    "---\n",
    "# Lecture 8\n",
    "---\n",
    "### Exercise: Strongly Connected Components\n",
    "The goal of this exercise is to implement the following algorithm to compute the strongly connected components of a directed graph $G$. [See here](https://www.hackerearth.com/practice/algorithms/graphs/strongly-connected-components/tutorial/). \n",
    "\n",
    "In a directed graph a component is strongly connected if there is a directed path from any vertex to every other vertex of the component. The problem asks to is to partition the graph into maximal strongly connected components.\n",
    "\n",
    "NetworkX provides a method to compute the strongly connected components of a graph [here](https://networkx.github.io/documentation/stable/reference/algorithms/generated/networkx.algorithms.components.strongly_connected_components.html#networkx.algorithms.components.strongly_connected_components). \n",
    "\n",
    "Your goal is to implement the Kosaraju's Linear time algorithm to find Strongly Connected Component. \n",
    "The algorithm is described [here](https://www.hackerearth.com/practice/algorithms/graphs/strongly-connected-components/tutorial).\n",
    "\n",
    "It works in three steps. \n",
    "\n",
    "- Do a DFS on the original graph, keeping track of the DFS finish times of each node. This can be done with a stack, when some  finishes put the source vertex on the stack. This way node with highest finishing time will be on top of the stack.\n",
    "- Reverse the original graph, i.e., if there is an edge $(u,v)$ in the original graph, add the edge $(v,u)$ in the reversed one.\n",
    "-  Do DFS on the reversed graph, with the source vertex as the vertex on top of the stack. When DFS finishes, all nodes visited will form one Strongly Connected Component. If any more nodes remain unvisited, this means there are more Strongly Connected Component's, so pop vertices from top of the stack until a valid unvisited node is found. This will have the highest finishing time of all currently unvisited nodes.\n",
    "\n",
    "Take a look at [DFS traversal documentation](https://networkx.github.io/documentation/stable/reference/algorithms/traversal.html#module-networkx.algorithms.traversal.depth_first_search).\n",
    "Note that the finishing time of a node can be inferred from its position in the DFS tree. "
   ]
  },
  {
   "cell_type": "code",
   "execution_count": 98,
   "metadata": {},
   "outputs": [
    {
     "name": "stdout",
     "output_type": "stream",
     "text": [
      "[[1, 2, 3, 0], [5, 6, 4], [7]]\n"
     ]
    }
   ],
   "source": [
    "import networkx as nx\n",
    "\n",
    "# Definiamo il grafo diretto usando NetworkX\n",
    "edges = [(0, 1), (1, 2), (2, 3), (3, 0), (2, 4), (4, 5), (5, 6), (6, 4), (6, 7)]\n",
    "DG = nx.DiGraph()\n",
    "DG.add_edges_from(edges)\n",
    "\n",
    "\n",
    "\n",
    "\n",
    "def dfs(node, graph, visited, sc): # sc = stack oppure component\n",
    "\n",
    "    visited.add(node)\n",
    "    for neighbor in graph[node]:\n",
    "        if neighbor not in visited:\n",
    "            dfs(neighbor, graph, visited, sc)\n",
    "\n",
    "    sc.append(node)  # Aggiungi il nodo alla stack dopo aver visitato tutti i suoi vicini\n",
    "                     # OPPURE Aggiungi il nodo al componente fortemente connesso\n",
    "                     # (Dipende se la dfs() viene chiamata con \"stack\" o con \"component\")\n",
    "\n",
    "\n",
    "\n",
    "def kosaraju_algorithm(DG):\n",
    "    \n",
    "    # Step 1: riempiamo la Stack con i nodi in base al loro tempo di completamento\n",
    "    # (I nodi completati prima vengono aggiunti prima alla stack)\n",
    "    stack = []\n",
    "    visited = set()\n",
    "\n",
    "    for node in DG.nodes():\n",
    "        if node not in visited:\n",
    "            dfs(node, DG, visited, stack)\n",
    "\n",
    "    # Step 2: invertiamo il grafo\n",
    "    DG_reversed = DG.reverse()\n",
    "\n",
    "    # Step 3: eseguiamo il DFS sul grafo (invertito) in relazione all'ordine degli elementi nella stack\n",
    "    visited = set()\n",
    "    SCCs = [] # Lista di strongly-connected components individuati\n",
    "\n",
    "    while stack:\n",
    "        node = stack.pop()\n",
    "        if node not in visited:\n",
    "            component = list()\n",
    "            dfs(node, DG_reversed, visited, component)\n",
    "            SCCs.append(component)  \n",
    "\n",
    "    return SCCs\n",
    "\n",
    "\n",
    "SCCs = kosaraju_algorithm(DG)\n",
    "print(SCCs)"
   ]
  }
 ],
 "metadata": {
  "kernelspec": {
   "display_name": "Python 3 (ipykernel)",
   "language": "python",
   "name": "python3"
  },
  "language_info": {
   "codemirror_mode": {
    "name": "ipython",
    "version": 3
   },
   "file_extension": ".py",
   "mimetype": "text/x-python",
   "name": "python",
   "nbconvert_exporter": "python",
   "pygments_lexer": "ipython3",
   "version": "3.10.5"
  }
 },
 "nbformat": 4,
 "nbformat_minor": 4
}
